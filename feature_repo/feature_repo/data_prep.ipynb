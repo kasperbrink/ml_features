{
 "cells": [
  {
   "cell_type": "code",
   "execution_count": null,
   "metadata": {},
   "outputs": [],
   "source": [
    "import seaborn\n",
    "from datetime import datetime\n",
    "\n",
    "data = seaborn.load_dataset('iris')\n",
    "\n",
    "data.reset_index(level=0, inplace=True) # turns the index into a column\n",
    "data = data.rename(columns={'index': 'iris_id'})\n",
    "\n",
    "data['observation_date'] = datetime(2021, 7, 9, 10, 0, 0)"
   ]
  },
  {
   "cell_type": "code",
   "execution_count": null,
   "metadata": {},
   "outputs": [],
   "source": [
    "#!feast init feature_repo\n",
    "!cd feature_repo/feature_repo && feast apply"
   ]
  },
  {
   "cell_type": "code",
   "execution_count": null,
   "metadata": {},
   "outputs": [],
   "source": [
    "data.to_parquet('/home/kasperbrink/ml_features/feature_repo/feature_repo/data/iris.parquet')\n"
   ]
  },
  {
   "cell_type": "code",
   "execution_count": null,
   "metadata": {},
   "outputs": [],
   "source": [
    "!cd feature_repo/feature_repo && feast apply"
   ]
  },
  {
   "cell_type": "code",
   "execution_count": 26,
   "metadata": {},
   "outputs": [
    {
     "name": "stdout",
     "output_type": "stream",
     "text": [
      "     preg   plas  pres  skin   insu  mass   pedi   age            class\n",
      "0     6.0  148.0  72.0  35.0    0.0  33.6  0.627  50.0  tested_positive\n",
      "1     1.0   85.0  66.0  29.0    0.0  26.6  0.351  31.0  tested_negative\n",
      "2     8.0  183.0  64.0   0.0    0.0  23.3  0.672  32.0  tested_positive\n",
      "3     1.0   89.0  66.0  23.0   94.0  28.1  0.167  21.0  tested_negative\n",
      "4     0.0  137.0  40.0  35.0  168.0  43.1  2.288  33.0  tested_positive\n",
      "..    ...    ...   ...   ...    ...   ...    ...   ...              ...\n",
      "763  10.0  101.0  76.0  48.0  180.0  32.9  0.171  63.0  tested_negative\n",
      "764   2.0  122.0  70.0  27.0    0.0  36.8  0.340  27.0  tested_negative\n",
      "765   5.0  121.0  72.0  23.0  112.0  26.2  0.245  30.0  tested_negative\n",
      "766   1.0  126.0  60.0   0.0    0.0  30.1  0.349  47.0  tested_positive\n",
      "767   1.0   93.0  70.0  31.0    0.0  30.4  0.315  23.0  tested_negative\n",
      "\n",
      "[768 rows x 9 columns]\n"
     ]
    }
   ],
   "source": [
    "import sklearn.datasets\n",
    "\n",
    "diabetes = sklearn.datasets.fetch_openml(\"diabetes\", version=1, as_frame=True, return_X_y=False)\n",
    "diabetes = diabetes[\"frame\"]\n",
    "print(diabetes)"
   ]
  },
  {
   "cell_type": "code",
   "execution_count": 30,
   "metadata": {},
   "outputs": [
    {
     "name": "stderr",
     "output_type": "stream",
     "text": [
      "\n",
      "KeyboardInterrupt\n",
      "\n"
     ]
    }
   ],
   "source": [
    "diabetes['observation_date'] = datetime(2022, 7, 9, 10, 0, 0)"
   ]
  },
  {
   "cell_type": "code",
   "execution_count": 33,
   "metadata": {},
   "outputs": [
    {
     "data": {
      "text/plain": [
       "preg                       float64\n",
       "plas                       float64\n",
       "pres                       float64\n",
       "skin                       float64\n",
       "insu                       float64\n",
       "mass                       float64\n",
       "pedi                       float64\n",
       "age                        float64\n",
       "class                     category\n",
       "observation_date    datetime64[ns]\n",
       "dtype: object"
      ]
     },
     "execution_count": 33,
     "metadata": {},
     "output_type": "execute_result"
    }
   ],
   "source": [
    "diabetes.dtypes"
   ]
  },
  {
   "cell_type": "code",
   "execution_count": 29,
   "metadata": {},
   "outputs": [],
   "source": [
    "diabetes.to_parquet('/home/kasperbrink/ml_features/feature_repo/feature_repo/data/diabetes.parquet')\n"
   ]
  },
  {
   "cell_type": "code",
   "execution_count": 36,
   "metadata": {},
   "outputs": [
    {
     "name": "stdout",
     "output_type": "stream",
     "text": [
      "/home/kasperbrink/miniconda3/lib/python3.9/site-packages/feast/feature_store.py:563: RuntimeWarning: On demand feature view is an experimental feature. This API is stable, but the functionality does not scale well for offline retrieval\n",
      "  warnings.warn(\n",
      "/home/kasperbrink/miniconda3/lib/python3.9/site-packages/feast/infra/offline_stores/file_source.py:161: FutureWarning: 'ParquetDataset.schema' attribute is deprecated as of pyarrow 5.0.0 and will be removed in a future version. Specify 'use_legacy_dataset=False' while constructing the ParquetDataset, and then use the '.schema' attribute instead (which will return an Arrow schema instead of a Parquet schema).\n",
      "  schema = ParquetDataset(path).schema.to_arrow_schema()\n",
      "Created entity \u001b[1m\u001b[32mdiabetes_id\u001b[0m\n",
      "Created feature view \u001b[1m\u001b[32mdiabetes_observations\u001b[0m\n",
      "\n",
      "Created sqlite table \u001b[1m\u001b[32mfeature_repo_diabetes_observations\u001b[0m\n",
      "\n"
     ]
    }
   ],
   "source": [
    "!cd feature_repo/feature_repo && feast apply"
   ]
  },
  {
   "cell_type": "code",
   "execution_count": 37,
   "metadata": {},
   "outputs": [
    {
     "name": "stdout",
     "output_type": "stream",
     "text": [
      "\u001b[32mINFO\u001b[0m:     Started server process [\u001b[36m5308\u001b[0m]\n",
      "\u001b[32mINFO\u001b[0m:     Waiting for application startup.\n",
      "\u001b[32mINFO\u001b[0m:     Application startup complete.\n",
      "\u001b[32mINFO\u001b[0m:     Uvicorn running on \u001b[1mhttp://0.0.0.0:8888\u001b[0m (Press CTRL+C to quit)\n",
      "\u001b[32mINFO\u001b[0m:     127.0.0.1:55900 - \"\u001b[1mGET /static/js/main.602bc1b5.js HTTP/1.1\u001b[0m\" \u001b[32m200 OK\u001b[0m\n",
      "\u001b[32mINFO\u001b[0m:     127.0.0.1:55900 - \"\u001b[1mGET /projects-list.json HTTP/1.1\u001b[0m\" \u001b[32m200 OK\u001b[0m\n",
      "\u001b[32mINFO\u001b[0m:     127.0.0.1:55900 - \"\u001b[1mGET /registry HTTP/1.1\u001b[0m\" \u001b[32m200 OK\u001b[0m\n",
      "\u001b[32mINFO\u001b[0m:     127.0.0.1:55900 - \"\u001b[1mGET /static/js/icon.cross.1e60f51e.chunk.js HTTP/1.1\u001b[0m\" \u001b[32m200 OK\u001b[0m\n",
      "^C\n",
      "\u001b[32mINFO\u001b[0m:     Shutting down\n",
      "\u001b[32mINFO\u001b[0m:     Waiting for application shutdown.\n",
      "\u001b[32mINFO\u001b[0m:     Application shutdown complete.\n",
      "\u001b[32mINFO\u001b[0m:     Finished server process [\u001b[36m5308\u001b[0m]\n"
     ]
    }
   ],
   "source": [
    "!cd feature_repo/feature_repo && feast ui"
   ]
  },
  {
   "cell_type": "code",
   "execution_count": null,
   "metadata": {},
   "outputs": [],
   "source": []
  }
 ],
 "metadata": {
  "kernelspec": {
   "display_name": "Python 3.9.12 ('base')",
   "language": "python",
   "name": "python3"
  },
  "language_info": {
   "codemirror_mode": {
    "name": "ipython",
    "version": 3
   },
   "file_extension": ".py",
   "mimetype": "text/x-python",
   "name": "python",
   "nbconvert_exporter": "python",
   "pygments_lexer": "ipython3",
   "version": "3.9.12"
  },
  "orig_nbformat": 4,
  "vscode": {
   "interpreter": {
    "hash": "d57dc91eabb34a73bb3a1dc37fa6c2a85800c86d04eec563058d941548fce743"
   }
  }
 },
 "nbformat": 4,
 "nbformat_minor": 2
}
